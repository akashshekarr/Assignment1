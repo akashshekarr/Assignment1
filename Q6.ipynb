{
 "cells": [
  {
   "cell_type": "code",
   "execution_count": null,
   "id": "5b7362f6-7678-41e7-a266-f4852ad3d921",
   "metadata": {},
   "outputs": [],
   "source": [
    "# Title for the graph\n",
    "title = \"GameStop Stock Data\"\n",
    "\n",
    "# Graphing GameStop Stock Data\n",
    "make_graph(gme_data, title)\n",
    "\n",
    "                                                                                  "
   ]
  }
 ],
 "metadata": {
  "kernelspec": {
   "display_name": "Python 3 (ipykernel)",
   "language": "python",
   "name": "python3"
  },
  "language_info": {
   "codemirror_mode": {
    "name": "ipython",
    "version": 3
   },
   "file_extension": ".py",
   "mimetype": "text/x-python",
   "name": "python",
   "nbconvert_exporter": "python",
   "pygments_lexer": "ipython3",
   "version": "3.11.7"
  }
 },
 "nbformat": 4,
 "nbformat_minor": 5
}
