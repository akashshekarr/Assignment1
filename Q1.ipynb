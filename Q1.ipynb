{
 "cells": [
  {
   "cell_type": "code",
   "execution_count": null,
   "id": "7d8885da-2abc-429d-a6fe-f40b51471939",
   "metadata": {},
   "outputs": [],
   "source": [
    "import yfinance as yf\n",
    "import pandas as pd\n",
    "\n",
    "# Extracting Tesla Stock Data\n",
    "tesla_ticker = 'TSLA'\n",
    "tesla_data = yf.download(tesla_ticker, start='2010-01-01', end='2023-01-01')\n",
    "\n",
    "# Resetting the index\n",
    "tesla_data.reset_index(inplace=True)\n",
    "\n",
    "# Displaying the first five rows\n",
    "tesla_data.head()\n"
   ]
  }
 ],
 "metadata": {
  "kernelspec": {
   "display_name": "Python 3 (ipykernel)",
   "language": "python",
   "name": "python3"
  },
  "language_info": {
   "codemirror_mode": {
    "name": "ipython",
    "version": 3
   },
   "file_extension": ".py",
   "mimetype": "text/x-python",
   "name": "python",
   "nbconvert_exporter": "python",
   "pygments_lexer": "ipython3",
   "version": "3.11.7"
  }
 },
 "nbformat": 4,
 "nbformat_minor": 5
}
