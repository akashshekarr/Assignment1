{
 "cells": [
  {
   "cell_type": "code",
   "execution_count": null,
   "id": "20b558d4-f8fd-43ec-b651-f61d22df37f8",
   "metadata": {},
   "outputs": [],
   "source": [
    "import requests\n",
    "from bs4 import BeautifulSoup\n",
    "import pandas as pd\n",
    "\n",
    "# Extracting GameStop Revenue Data\n",
    "url = 'https://www.macrotrends.net/stocks/charts/GME/gamestop/revenue'\n",
    "html = requests.get(url).text\n",
    "soup = BeautifulSoup(html, 'html.parser')\n",
    "\n",
    "# Find the revenue table\n",
    "tables = soup.find_all('table')\n",
    "gme_revenue_table = None\n",
    "for table in tables:\n",
    "    if 'GameStop Quarterly Revenue' in str(table):\n",
    "        gme_revenue_table = table\n",
    "        break\n",
    "\n",
    "# Check if the revenue table was found\n",
    "if gme_revenue_table is not None:\n",
    "    # Parse the table into a dataframe\n",
    "    gme_revenue = pd.read_html(str(gme_revenue_table))[0]\n",
    "\n",
    "    # Clean the dataframe\n",
    "    gme_revenue.columns = ['Date', 'Revenue']\n",
    "    gme_revenue['Revenue'] = gme_revenue['Revenue'].str.replace(',', '').str.replace('$', '', regex=True)\n",
    "    gme_revenue = gme_revenue[gme_revenue['Revenue'] != '']\n",
    "    gme_revenue['Revenue'] = gme_revenue['Revenue'].astype(float)\n",
    "    gme_revenue['Date'] = pd.to_datetime(gme_revenue['Date'])\n",
    "\n",
    "    # Display the last five rows\n",
    "    print(gme_revenue.tail())\n",
    "else:\n",
    "    print(\"GameStop revenue table not found.\")\n"
   ]
  }
 ],
 "metadata": {
  "kernelspec": {
   "display_name": "Python 3 (ipykernel)",
   "language": "python",
   "name": "python3"
  },
  "language_info": {
   "codemirror_mode": {
    "name": "ipython",
    "version": 3
   },
   "file_extension": ".py",
   "mimetype": "text/x-python",
   "name": "python",
   "nbconvert_exporter": "python",
   "pygments_lexer": "ipython3",
   "version": "3.11.7"
  }
 },
 "nbformat": 4,
 "nbformat_minor": 5
}
