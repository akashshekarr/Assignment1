{
 "cells": [
  {
   "cell_type": "code",
   "execution_count": null,
   "id": "2ae11840-cc96-4540-8fdf-43e7dd62f96f",
   "metadata": {},
   "outputs": [],
   "source": [
    "import yfinance as yf\n",
    "import pandas as pd\n",
    "\n",
    "# Extracting GameStop Stock Data\n",
    "gme_ticker = 'GME'\n",
    "gme_data = yf.download(gme_ticker, start='2010-01-01', end='2023-01-01')\n",
    "\n",
    "# Resetting the index\n",
    "gme_data.reset_index(inplace=True)\n",
    "\n",
    "# Displaying the first five rows\n",
    "gme_data.head()\n"
   ]
  }
 ],
 "metadata": {
  "kernelspec": {
   "display_name": "Python 3 (ipykernel)",
   "language": "python",
   "name": "python3"
  },
  "language_info": {
   "codemirror_mode": {
    "name": "ipython",
    "version": 3
   },
   "file_extension": ".py",
   "mimetype": "text/x-python",
   "name": "python",
   "nbconvert_exporter": "python",
   "pygments_lexer": "ipython3",
   "version": "3.11.7"
  }
 },
 "nbformat": 4,
 "nbformat_minor": 5
}
